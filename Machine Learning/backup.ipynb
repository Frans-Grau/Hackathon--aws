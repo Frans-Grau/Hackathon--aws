{
 "cells": [
  {
   "cell_type": "code",
   "execution_count": null,
   "metadata": {},
   "outputs": [],
   "source": [
    "### Nearest Neighbor - ML model - silhouette_score\n",
    "start_time = datetime.now()\n",
    "\n",
    "# Drop NaN\n",
    "dft =  df_final.dropna()\n",
    "\n",
    "# Characteristics for the model \n",
    "characteristics = ['valeur_fonciere','surface_reelle_bati','nombre_pieces_principales','longitude','latitude',\n",
    "'Appartement','Local industriel. commercial ou assimilé','Maison','Adjudication','Echange','Expropriation','Vente',\"Vente en l'état futur d'achèvement\",\n",
    "'Vente terrain à bâtir']\n",
    "\n",
    "# Split the data into Train and test set\n",
    "df_train, df_test = train_test_split(dft, test_size=0.2, random_state=7)\n",
    "\n",
    "# Select the model and prepare Grid Search\n",
    "model = NearestNeighbors()\n",
    "\n",
    "parameters = {'n_neighbors':[3,4,5], \n",
    "                'algorithm':['ball_tree', 'kd_tree', 'brute'], \n",
    "                'metric': ['cityblock','euclidean','manhattan']\n",
    "}\n",
    "\n",
    "# GridSearch and fit in train\n",
    "grid_search = GridSearchCV(model, parameters, cv=5, scoring = silhouette_score)\n",
    "grid_search.fit(df_train[characteristics])\n",
    "\n",
    "params_to_use = grid_search.best_params_\n",
    "estimator = grid_search.best_estimator_\n",
    "\n",
    "end_time = datetime.now()\n",
    "\n",
    "#Check results\n",
    "print(f'NaN values dropped: ', df_final.shape[0]- dft.shape[0])\n",
    "print(f'Best score: ', grid_search.best_score_)\n",
    "print(f'Best params: ', grid_search.best_params_)\n",
    "print(f'Best estimator: ', grid_search.best_estimator_)\n",
    "print('\\nBest params: ', params_to_use)\n",
    "print(f'\\nTotalTime: ',(end_time - start_time))"
   ]
  },
  {
   "cell_type": "code",
   "execution_count": null,
   "metadata": {},
   "outputs": [],
   "source": [
    "# NearestNeighbors(algorithm='ball_tree', metric='cityblock', n_neighbors=3)\n",
    "\n",
    "def recommend_neighborhoods(current_neighborhood):\n",
    "    distances, indices = estimator.kneighbors(df_train[df_train['nom_commune'] == current_neighborhood][['valeur_fonciere','surface_reelle_bati','nombre_pieces_principales','longitude','latitude',\n",
    "'Appartement','Local industriel. commercial ou assimilé','Maison','Adjudication','Echange','Expropriation','Vente',\"Vente en l'état futur d'achèvement\",\n",
    "'Vente terrain à bâtir']])\n",
    "    similar_neighborhoods = df_train.iloc[indices.flatten()]['nom_commune']\n",
    "    similar_neighborhoods = similar_neighborhoods[similar_neighborhoods != current_neighborhood].head(3)\n",
    "    return similar_neighborhoods.values[0], similar_neighborhoods.values[1], similar_neighborhoods.values[2]\n",
    "recommend_neighborhoods('Paris 14e Arrondissement')"
   ]
  }
 ],
 "metadata": {
  "kernelspec": {
   "display_name": "Data",
   "language": "python",
   "name": "python3"
  },
  "language_info": {
   "name": "python",
   "version": "3.9.13 (main, Aug 25 2022, 23:51:50) [MSC v.1916 64 bit (AMD64)]"
  },
  "orig_nbformat": 4,
  "vscode": {
   "interpreter": {
    "hash": "25876271bee417cea62ac4a874d4e4ae52fe419c2f0f6d8a5704a6b7fa872526"
   }
  }
 },
 "nbformat": 4,
 "nbformat_minor": 2
}
