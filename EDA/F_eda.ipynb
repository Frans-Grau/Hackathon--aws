{
  "cells": [
    {
      "cell_type": "markdown",
      "metadata": {
        "colab_type": "text",
        "id": "view-in-github"
      },
      "source": [
        "<a href=\"https://colab.research.google.com/github/Frans-Grau/Hackathon--aws/blob/main/EDA/F_eda.ipynb\" target=\"_parent\"><img src=\"https://colab.research.google.com/assets/colab-badge.svg\" alt=\"Open In Colab\"/></a>"
      ]
    },
    {
      "cell_type": "code",
      "execution_count": 2,
      "metadata": {
        "id": "9gEMRiXLV-Sw"
      },
      "outputs": [],
      "source": [
        "### Imports\n",
        "import pandas as pd"
      ]
    },
    {
      "cell_type": "code",
      "execution_count": 3,
      "metadata": {
        "id": "fhfcgE4hWDwA"
      },
      "outputs": [
        {
          "name": "stderr",
          "output_type": "stream",
          "text": [
            "C:\\Users\\frans\\AppData\\Local\\Temp\\ipykernel_21684\\505875731.py:3: DtypeWarning: Columns (8,10,12,14,16,17,18,20,22,35,36) have mixed types. Specify dtype option on import or set low_memory=False.\n",
            "  z = pd.read_csv('https://files.data.gouv.fr/geo-dvf/latest/csv/2019/full.csv.gz')\n",
            "C:\\Users\\frans\\AppData\\Local\\Temp\\ipykernel_21684\\505875731.py:4: DtypeWarning: Columns (10,12,14,16,17,18,20,22,35,36) have mixed types. Specify dtype option on import or set low_memory=False.\n",
            "  z2 = pd.read_csv('https://files.data.gouv.fr/geo-dvf/latest/csv/2020/full.csv.gz')\n",
            "C:\\Users\\frans\\AppData\\Local\\Temp\\ipykernel_21684\\505875731.py:5: DtypeWarning: Columns (10,12,14,17,18,20,22,24,35,36) have mixed types. Specify dtype option on import or set low_memory=False.\n",
            "  z3 = pd.read_csv('https://files.data.gouv.fr/geo-dvf/latest/csv/2021/full.csv.gz')\n",
            "C:\\Users\\frans\\AppData\\Local\\Temp\\ipykernel_21684\\505875731.py:6: DtypeWarning: Columns (10,12,14,16,17,18,20,22,35,36) have mixed types. Specify dtype option on import or set low_memory=False.\n",
            "  z4 =  pd.read_csv('https://files.data.gouv.fr/geo-dvf/latest/csv/2022/full.csv.gz')\n"
          ]
        }
      ],
      "source": [
        "### Load the datasets\n",
        "df_pop_dem = pd.read_csv('https://raw.githubusercontent.com/Gierko/Hackathon-11th-to-13th-January/main/info_pop_dem_communes_idf.csv',sep=';')\n",
        "z = pd.read_csv('https://files.data.gouv.fr/geo-dvf/latest/csv/2019/full.csv.gz')\n",
        "z2 = pd.read_csv('https://files.data.gouv.fr/geo-dvf/latest/csv/2020/full.csv.gz')\n",
        "z3 = pd.read_csv('https://files.data.gouv.fr/geo-dvf/latest/csv/2021/full.csv.gz')\n",
        "z4 =  pd.read_csv('https://files.data.gouv.fr/geo-dvf/latest/csv/2022/full.csv.gz')\n",
        "\n",
        "### Create the dataset\n",
        "df2019 = z[['id_mutation','valeur_fonciere','surface_reelle_bati','nombre_pieces_principales','type_local','nature_mutation','nom_commune','code_commune','code_departement','id_parcelle','longitude','latitude','date_mutation']] \n",
        "df2020 = z2[['id_mutation','valeur_fonciere','surface_reelle_bati','nombre_pieces_principales','type_local','nature_mutation','nom_commune','code_commune','code_departement','id_parcelle','longitude','latitude','date_mutation']] \n",
        "df2021 = z3[['id_mutation','valeur_fonciere','surface_reelle_bati','nombre_pieces_principales','type_local','nature_mutation','nom_commune','code_commune','code_departement','id_parcelle','longitude','latitude','date_mutation']] \n",
        "df2022 = z4[['id_mutation','valeur_fonciere','surface_reelle_bati','nombre_pieces_principales','type_local','nature_mutation','nom_commune','code_commune','code_departement','id_parcelle','longitude','latitude','date_mutation']] \n"
      ]
    }
  ],
  "metadata": {
    "colab": {
      "authorship_tag": "ABX9TyN204/8aEDAUMLBYC0E2rsk",
      "include_colab_link": true,
      "provenance": []
    },
    "kernelspec": {
      "display_name": "Data",
      "language": "python",
      "name": "python3"
    },
    "language_info": {
      "codemirror_mode": {
        "name": "ipython",
        "version": 3
      },
      "file_extension": ".py",
      "mimetype": "text/x-python",
      "name": "python",
      "nbconvert_exporter": "python",
      "pygments_lexer": "ipython3",
      "version": "3.9.13"
    },
    "vscode": {
      "interpreter": {
        "hash": "25876271bee417cea62ac4a874d4e4ae52fe419c2f0f6d8a5704a6b7fa872526"
      }
    }
  },
  "nbformat": 4,
  "nbformat_minor": 0
}
