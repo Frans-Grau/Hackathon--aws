{
  "nbformat": 4,
  "nbformat_minor": 0,
  "metadata": {
    "colab": {
      "provenance": [],
      "include_colab_link": true
    },
    "kernelspec": {
      "name": "python3",
      "display_name": "Python 3"
    },
    "language_info": {
      "name": "python"
    }
  },
  "cells": [
    {
      "cell_type": "markdown",
      "metadata": {
        "id": "view-in-github",
        "colab_type": "text"
      },
      "source": [
        "<a href=\"https://colab.research.google.com/github/LuisaPolicarpo/Hackathon--aws/blob/main/EDA/Lu%C3%ADsa_Hackaton_RealEstate.ipynb\" target=\"_parent\"><img src=\"https://colab.research.google.com/assets/colab-badge.svg\" alt=\"Open In Colab\"/></a>"
      ]
    },
    {
      "cell_type": "code",
      "execution_count": null,
      "metadata": {
        "id": "E1Si79nROi46"
      },
      "outputs": [],
      "source": [
        "Link1 = https://raw.githubusercontent.com/Gierko/Hackathon-11th-to-13th-January/main/idf_transactions_16_17.csv\n",
        "Link2 = https://raw.githubusercontent.com/Gierko/Hackathon-11th-to-13th-January/main/idf_transactions_18_19.csv\n",
        "Link3 = https://raw.githubusercontent.com/Gierko/Hackathon-11th-to-13th-January/main/idf_transactions_2017.csv\n",
        "Link4 = https://raw.githubusercontent.com/Gierko/Hackathon-11th-to-13th-January/main/info_pop_dem_communes_idf.csv\n",
        "Link5 = https://raw.githubusercontent.com/Gierko/Hackathon-11th-to-13th-January/main/logements_info_75.csv\n",
        "Link6 = https://raw.githubusercontent.com/Gierko/Hackathon-11th-to-13th-January/main/transactions_idf_14_15.csv"
      ]
    },
    {
      "cell_type": "code",
      "source": [
        "import pandas as pd"
      ],
      "metadata": {
        "id": "PK6YHlWSS1Em"
      },
      "execution_count": 2,
      "outputs": []
    },
    {
      "cell_type": "code",
      "source": [
        "df_16_17 = pd.read_csv('https://raw.githubusercontent.com/Gierko/Hackathon-11th-to-13th-January/main/idf_transactions_16_17.csv') #L"
      ],
      "metadata": {
        "id": "GLg0JZvpSLqe"
      },
      "execution_count": 3,
      "outputs": []
    },
    {
      "cell_type": "code",
      "source": [
        "df_2017 = pd.read_csv('https://raw.githubusercontent.com/Gierko/Hackathon-11th-to-13th-January/main/idf_transactions_2017.csv')#L"
      ],
      "metadata": {
        "id": "fLccMbaNTAH-"
      },
      "execution_count": 5,
      "outputs": []
    },
    {
      "cell_type": "code",
      "source": [
        "df_18_19 = pd.read_csv('https://raw.githubusercontent.com/Gierko/Hackathon-11th-to-13th-January/main/idf_transactions_18_19.csv')"
      ],
      "metadata": {
        "id": "Brpup27pShK8"
      },
      "execution_count": 4,
      "outputs": []
    },
    {
      "cell_type": "code",
      "source": [
        "df_14_15 = pd.read_csv('https://raw.githubusercontent.com/Gierko/Hackathon-11th-to-13th-January/main/transactions_idf_14_15.csv')"
      ],
      "metadata": {
        "id": "J0dyNIyaTZka"
      },
      "execution_count": 9,
      "outputs": []
    },
    {
      "cell_type": "code",
      "source": [
        "df_pop_dem = pd.read_csv('https://raw.githubusercontent.com/Gierko/Hackathon-11th-to-13th-January/main/info_pop_dem_communes_idf.csv',sep=';')"
      ],
      "metadata": {
        "id": "B0wU3Q1hTFBk"
      },
      "execution_count": 19,
      "outputs": []
    },
    {
      "cell_type": "code",
      "source": [
        "df_75 = pd.read_csv('https://raw.githubusercontent.com/Gierko/Hackathon-11th-to-13th-January/main/logements_info_75.csv')"
      ],
      "metadata": {
        "id": "shpLRKf0TRG4"
      },
      "execution_count": 8,
      "outputs": []
    },
    {
      "cell_type": "code",
      "source": [
        "df_final_2 = pd.read_csv('/content/df_final',compression= 'zip')"
      ],
      "metadata": {
        "id": "a64iCJojLXty"
      },
      "execution_count": 134,
      "outputs": []
    },
    {
      "cell_type": "code",
      "source": [
        "from google.colab import drive\n",
        "drive.mount('/content/drive')"
      ],
      "metadata": {
        "colab": {
          "base_uri": "https://localhost:8080/"
        },
        "id": "PMp3omDPNz6A",
        "outputId": "d32a2f71-8b30-42de-c1ab-bf4867dfa35f"
      },
      "execution_count": 76,
      "outputs": [
        {
          "output_type": "stream",
          "name": "stdout",
          "text": [
            "Drive already mounted at /content/drive; to attempt to forcibly remount, call drive.mount(\"/content/drive\", force_remount=True).\n"
          ]
        }
      ]
    },
    {
      "cell_type": "code",
      "source": [
        "condition1 = df_final_2['nombre_pieces_principales'] > 0 \n",
        "condition11 =  df_final_2['nombre_pieces_principales'] < 5 \n",
        "\n",
        "df_final = df_final_2[condition1 & condition11][['id_mutation','valeur_fonciere','surface_reelle_bati','nombre_pieces_principales','type_local','nature_mutation','nom_commune','valeur_fonciere','longitude', 'latitude','date_mutation']]"
      ],
      "metadata": {
        "id": "oMCOmNrCXB_h"
      },
      "execution_count": 164,
      "outputs": []
    },
    {
      "cell_type": "code",
      "source": [
        "df_final['nombre_pieces_principales'].value_counts()"
      ],
      "metadata": {
        "colab": {
          "base_uri": "https://localhost:8080/"
        },
        "id": "Y563w2ZlVxnU",
        "outputId": "60a84d3e-f4bf-44da-a1fe-154cb56fb306"
      },
      "execution_count": 165,
      "outputs": [
        {
          "output_type": "execute_result",
          "data": {
            "text/plain": [
              "3.0    163699\n",
              "2.0    142057\n",
              "4.0    129307\n",
              "1.0     88127\n",
              "Name: nombre_pieces_principales, dtype: int64"
            ]
          },
          "metadata": {},
          "execution_count": 165
        }
      ]
    },
    {
      "cell_type": "code",
      "source": [
        "df_final[['year','month','day']] = df_final.date_mutation.str.split(\"-\", expand=True)"
      ],
      "metadata": {
        "id": "g8fOgSSNVjYQ"
      },
      "execution_count": 166,
      "outputs": []
    },
    {
      "cell_type": "code",
      "source": [
        "df_final['type_local'].value_counts()"
      ],
      "metadata": {
        "colab": {
          "base_uri": "https://localhost:8080/"
        },
        "id": "8TnoPNV1PBdB",
        "outputId": "c7e573fb-e327-46b4-a279-3a79366365e4"
      },
      "execution_count": 167,
      "outputs": [
        {
          "output_type": "execute_result",
          "data": {
            "text/plain": [
              "Appartement    414874\n",
              "Maison         108316\n",
              "Name: type_local, dtype: int64"
            ]
          },
          "metadata": {},
          "execution_count": 167
        }
      ]
    },
    {
      "cell_type": "code",
      "source": [
        "from matplotlib import pyplot as plt\n",
        "import numpy as np\n",
        "import matplotlib.pyplot as plt\n",
        "import seaborn\n",
        " \n",
        "local = ['Appartement', 'Maison', 'Local industriel. commercial ou assimilé']\n",
        "data = [439163, 202338, 65161]\n",
        "colors = ['blue', 'red', 'white']\n",
        "explode = [0.1, 0, 0]\n",
        "fig = plt.figure(figsize =(10, 7))\n",
        "plt.pie(data, labels = local, explode=explode, autopct='%.0f%%', wedgeprops = { 'linewidth' : 4, 'edgecolor' : 'black'}, colors=colors)\n",
        "plt.title(\"Type of locals in Ile de france\")\n",
        "plt.show()"
      ],
      "metadata": {
        "colab": {
          "base_uri": "https://localhost:8080/",
          "height": 427
        },
        "id": "ToHw7QrQPHTd",
        "outputId": "35491213-a117-48d8-b581-7e4bd70d0a71"
      },
      "execution_count": 153,
      "outputs": [
        {
          "output_type": "display_data",
          "data": {
            "text/plain": [
              "<Figure size 720x504 with 1 Axes>"
            ],
            "image/png": "[encoded data removed]"
          },
          "metadata": {}
        }
      ]
    },
    {
      "cell_type": "code",
      "source": [
        "from matplotlib import pyplot as plt\n",
        "import numpy as np\n",
        "import matplotlib.pyplot as plt\n",
        "import seaborn\n",
        " \n",
        "local = ['Appartement', 'Maison', 'Local industriel. commercial ou assimilé']\n",
        "data = [439163, 202338, 65161]\n",
        "colors = ['blue', 'white', 'white']\n",
        "explode = [0.1, 0, 0]\n",
        "fig = plt.figure(figsize =(10, 7))\n",
        "plt.pie(data, explode=explode, colors=colors)\n",
        "plt.title(\"Appartement\")\n",
        "plt.show()"
      ],
      "metadata": {
        "colab": {
          "base_uri": "https://localhost:8080/",
          "height": 427
        },
        "id": "_c6BpUx7Uopu",
        "outputId": "4dc3060a-3ce2-4598-d232-9a65b8c23b91"
      },
      "execution_count": 154,
      "outputs": [
        {
          "output_type": "display_data",
          "data": {
            "text/plain": [
              "<Figure size 720x504 with 1 Axes>"
            ],
            "image/png": "[encoded data removed]"
          },
          "metadata": {}
        }
      ]
    },
    {
      "cell_type": "code",
      "source": [
        "condition = df_final['type_local'] == 'Appartement' \n",
        "\n",
        "df_final_ap = df_final[condition][['valeur_fonciere','nombre_pieces_principales','nature_mutation','year','type_local']]"
      ],
      "metadata": {
        "id": "P_drSjppU74e"
      },
      "execution_count": 168,
      "outputs": []
    },
    {
      "cell_type": "code",
      "source": [
        "df_final_ap"
      ],
      "metadata": {
        "colab": {
          "base_uri": "https://localhost:8080/",
          "height": 424
        },
        "id": "lfRsXjaOV2pl",
        "outputId": "2113d42a-770f-4a34-c86b-53da887768a0"
      },
      "execution_count": 169,
      "outputs": [
        {
          "output_type": "execute_result",
          "data": {
            "text/plain": [
              "        valeur_fonciere  valeur_fonciere  nombre_pieces_principales  \\\n",
              "4              155000.0         155000.0                        2.0   \n",
              "5              165500.0         165500.0                        3.0   \n",
              "11             690000.0         690000.0                        2.0   \n",
              "13             690000.0         690000.0                        3.0   \n",
              "14             205000.0         205000.0                        3.0   \n",
              "...                 ...              ...                        ...   \n",
              "706652        1102000.0        1102000.0                        4.0   \n",
              "706654         130000.0         130000.0                        1.0   \n",
              "706655         330375.0         330375.0                        2.0   \n",
              "706660         423000.0         423000.0                        2.0   \n",
              "706661         104650.0         104650.0                        1.0   \n",
              "\n",
              "                           nature_mutation  year   type_local  \n",
              "4                                    Vente  2019  Appartement  \n",
              "5                                    Vente  2019  Appartement  \n",
              "11                                   Vente  2019  Appartement  \n",
              "13                                   Vente  2019  Appartement  \n",
              "14      Vente en l'état futur d'achèvement  2019  Appartement  \n",
              "...                                    ...   ...          ...  \n",
              "706652                               Vente  2022  Appartement  \n",
              "706654                               Vente  2022  Appartement  \n",
              "706655                               Vente  2022  Appartement  \n",
              "706660                               Vente  2022  Appartement  \n",
              "706661                               Vente  2022  Appartement  \n",
              "\n",
              "[414874 rows x 6 columns]"
            ],
            "text/html": [
              "\n",
              "  <div id=\"df-f0dcb9ef-037a-4223-9d65-cb787035a465\">\n",
              "    <div class=\"colab-df-container\">\n",
              "      <div>\n",
              "<style scoped>\n",
              "    .dataframe tbody tr th:only-of-type {\n",
              "        vertical-align: middle;\n",
              "    }\n",
              "\n",
              "    .dataframe tbody tr th {\n",
              "        vertical-align: top;\n",
              "    }\n",
              "\n",
              "    .dataframe thead th {\n",
              "        text-align: right;\n",
              "    }\n",
              "</style>\n",
              "<table border=\"1\" class=\"dataframe\">\n",
              "  <thead>\n",
              "    <tr style=\"text-align: right;\">\n",
              "      <th></th>\n",
              "      <th>valeur_fonciere</th>\n",
              "      <th>valeur_fonciere</th>\n",
              "      <th>nombre_pieces_principales</th>\n",
              "      <th>nature_mutation</th>\n",
              "      <th>year</th>\n",
              "      <th>type_local</th>\n",
              "    </tr>\n",
              "  </thead>\n",
              "  <tbody>\n",
              "    <tr>\n",
              "      <th>4</th>\n",
              "      <td>155000.0</td>\n",
              "      <td>155000.0</td>\n",
              "      <td>2.0</td>\n",
              "      <td>Vente</td>\n",
              "      <td>2019</td>\n",
              "      <td>Appartement</td>\n",
              "    </tr>\n",
              "    <tr>\n",
              "      <th>5</th>\n",
              "      <td>165500.0</td>\n",
              "      <td>165500.0</td>\n",
              "      <td>3.0</td>\n",
              "      <td>Vente</td>\n",
              "      <td>2019</td>\n",
              "      <td>Appartement</td>\n",
              "    </tr>\n",
              "    <tr>\n",
              "      <th>11</th>\n",
              "      <td>690000.0</td>\n",
              "      <td>690000.0</td>\n",
              "      <td>2.0</td>\n",
              "      <td>Vente</td>\n",
              "      <td>2019</td>\n",
              "      <td>Appartement</td>\n",
              "    </tr>\n",
              "    <tr>\n",
              "      <th>13</th>\n",
              "      <td>690000.0</td>\n",
              "      <td>690000.0</td>\n",
              "      <td>3.0</td>\n",
              "      <td>Vente</td>\n",
              "      <td>2019</td>\n",
              "      <td>Appartement</td>\n",
              "    </tr>\n",
              "    <tr>\n",
              "      <th>14</th>\n",
              "      <td>205000.0</td>\n",
              "      <td>205000.0</td>\n",
              "      <td>3.0</td>\n",
              "      <td>Vente en l'état futur d'achèvement</td>\n",
              "      <td>2019</td>\n",
              "      <td>Appartement</td>\n",
              "    </tr>\n",
              "    <tr>\n",
              "      <th>...</th>\n",
              "      <td>...</td>\n",
              "      <td>...</td>\n",
              "      <td>...</td>\n",
              "      <td>...</td>\n",
              "      <td>...</td>\n",
              "      <td>...</td>\n",
              "    </tr>\n",
              "    <tr>\n",
              "      <th>706652</th>\n",
              "      <td>1102000.0</td>\n",
              "      <td>1102000.0</td>\n",
              "      <td>4.0</td>\n",
              "      <td>Vente</td>\n",
              "      <td>2022</td>\n",
              "      <td>Appartement</td>\n",
              "    </tr>\n",
              "    <tr>\n",
              "      <th>706654</th>\n",
              "      <td>130000.0</td>\n",
              "      <td>130000.0</td>\n",
              "      <td>1.0</td>\n",
              "      <td>Vente</td>\n",
              "      <td>2022</td>\n",
              "      <td>Appartement</td>\n",
              "    </tr>\n",
              "    <tr>\n",
              "      <th>706655</th>\n",
              "      <td>330375.0</td>\n",
              "      <td>330375.0</td>\n",
              "      <td>2.0</td>\n",
              "      <td>Vente</td>\n",
              "      <td>2022</td>\n",
              "      <td>Appartement</td>\n",
              "    </tr>\n",
              "    <tr>\n",
              "      <th>706660</th>\n",
              "      <td>423000.0</td>\n",
              "      <td>423000.0</td>\n",
              "      <td>2.0</td>\n",
              "      <td>Vente</td>\n",
              "      <td>2022</td>\n",
              "      <td>Appartement</td>\n",
              "    </tr>\n",
              "    <tr>\n",
              "      <th>706661</th>\n",
              "      <td>104650.0</td>\n",
              "      <td>104650.0</td>\n",
              "      <td>1.0</td>\n",
              "      <td>Vente</td>\n",
              "      <td>2022</td>\n",
              "      <td>Appartement</td>\n",
              "    </tr>\n",
              "  </tbody>\n",
              "</table>\n",
              "<p>414874 rows × 6 columns</p>\n",
              "</div>\n",
              "      <button class=\"colab-df-convert\" onclick=\"convertToInteractive('df-f0dcb9ef-037a-4223-9d65-cb787035a465')\"\n",
              "              title=\"Convert this dataframe to an interactive table.\"\n",
              "              style=\"display:none;\">\n",
              "        \n",
              "  <svg xmlns=\"http://www.w3.org/2000/svg\" height=\"24px\"viewBox=\"0 0 24 24\"\n",
              "       width=\"24px\">\n",
              "    <path d=\"M0 0h24v24H0V0z\" fill=\"none\"/>\n",
              "    <path d=\"M18.56 5.44l.94 2.06.94-2.06 2.06-.94-2.06-.94-.94-2.06-.94 2.06-2.06.94zm-11 1L8.5 8.5l.94-2.06 2.06-.94-2.06-.94L8.5 2.5l-.94 2.06-2.06.94zm10 10l.94 2.06.94-2.06 2.06-.94-2.06-.94-.94-2.06-.94 2.06-2.06.94z\"/><path d=\"M17.41 7.96l-1.37-1.37c-.4-.4-.92-.59-1.43-.59-.52 0-1.04.2-1.43.59L10.3 9.45l-7.72 7.72c-.78.78-.78 2.05 0 2.83L4 21.41c.39.39.9.59 1.41.59.51 0 1.02-.2 1.41-.59l7.78-7.78 2.81-2.81c.8-.78.8-2.07 0-2.86zM5.41 20L4 18.59l7.72-7.72 1.47 1.35L5.41 20z\"/>\n",
              "  </svg>\n",
              "      </button>\n",
              "      \n",
              "  <style>\n",
              "    .colab-df-container {\n",
              "      display:flex;\n",
              "      flex-wrap:wrap;\n",
              "      gap: 12px;\n",
              "    }\n",
              "\n",
              "    .colab-df-convert {\n",
              "      background-color: #E8F0FE;\n",
              "      border: none;\n",
              "      border-radius: 50%;\n",
              "      cursor: pointer;\n",
              "      display: none;\n",
              "      fill: #1967D2;\n",
              "      height: 32px;\n",
              "      padding: 0 0 0 0;\n",
              "      width: 32px;\n",
              "    }\n",
              "\n",
              "    .colab-df-convert:hover {\n",
              "      background-color: #E2EBFA;\n",
              "      box-shadow: 0px 1px 2px rgba(60, 64, 67, 0.3), 0px 1px 3px 1px rgba(60, 64, 67, 0.15);\n",
              "      fill: #174EA6;\n",
              "    }\n",
              "\n",
              "    [theme=dark] .colab-df-convert {\n",
              "      background-color: #3B4455;\n",
              "      fill: #D2E3FC;\n",
              "    }\n",
              "\n",
              "    [theme=dark] .colab-df-convert:hover {\n",
              "      background-color: #434B5C;\n",
              "      box-shadow: 0px 1px 3px 1px rgba(0, 0, 0, 0.15);\n",
              "      filter: drop-shadow(0px 1px 2px rgba(0, 0, 0, 0.3));\n",
              "      fill: #FFFFFF;\n",
              "    }\n",
              "  </style>\n",
              "\n",
              "      <script>\n",
              "        const buttonEl =\n",
              "          document.querySelector('#df-f0dcb9ef-037a-4223-9d65-cb787035a465 button.colab-df-convert');\n",
              "        buttonEl.style.display =\n",
              "          google.colab.kernel.accessAllowed ? 'block' : 'none';\n",
              "\n",
              "        async function convertToInteractive(key) {\n",
              "          const element = document.querySelector('#df-f0dcb9ef-037a-4223-9d65-cb787035a465');\n",
              "          const dataTable =\n",
              "            await google.colab.kernel.invokeFunction('convertToInteractive',\n",
              "                                                     [key], {});\n",
              "          if (!dataTable) return;\n",
              "\n",
              "          const docLinkHtml = 'Like what you see? Visit the ' +\n",
              "            '<a target=\"_blank\" href=https://colab.research.google.com/notebooks/data_table.ipynb>data table notebook</a>'\n",
              "            + ' to learn more about interactive tables.';\n",
              "          element.innerHTML = '';\n",
              "          dataTable['output_type'] = 'display_data';\n",
              "          await google.colab.output.renderOutput(dataTable, element);\n",
              "          const docLink = document.createElement('div');\n",
              "          docLink.innerHTML = docLinkHtml;\n",
              "          element.appendChild(docLink);\n",
              "        }\n",
              "      </script>\n",
              "    </div>\n",
              "  </div>\n",
              "  "
            ]
          },
          "metadata": {},
          "execution_count": 169
        }
      ]
    },
    {
      "cell_type": "code",
      "source": [
        "df_final_ap['nombre_pieces_principales'].value_counts()"
      ],
      "metadata": {
        "colab": {
          "base_uri": "https://localhost:8080/"
        },
        "id": "t3KvXy7UWBx0",
        "outputId": "39aa5d1b-7f4e-42c7-972c-a1f982e13408"
      },
      "execution_count": 170,
      "outputs": [
        {
          "output_type": "execute_result",
          "data": {
            "text/plain": [
              "2.0    131201\n",
              "3.0    129509\n",
              "1.0     85091\n",
              "4.0     69073\n",
              "Name: nombre_pieces_principales, dtype: int64"
            ]
          },
          "metadata": {},
          "execution_count": 170
        }
      ]
    },
    {
      "cell_type": "code",
      "source": [
        "sns.displot(data=df_final_ap, x=\"nombre_pieces_principales\")"
      ],
      "metadata": {
        "colab": {
          "base_uri": "https://localhost:8080/",
          "height": 386
        },
        "id": "e25sIG_0Zp5S",
        "outputId": "d754582d-8258-4066-9337-c05a3f59d259"
      },
      "execution_count": 179,
      "outputs": [
        {
          "output_type": "execute_result",
          "data": {
            "text/plain": [
              "<seaborn.axisgrid.FacetGrid at 0x7f8b65825220>"
            ]
          },
          "metadata": {},
          "execution_count": 179
        },
        {
          "output_type": "display_data",
          "data": {
            "text/plain": [
              "<Figure size 360x360 with 1 Axes>"
            ],
            "image/png": "[encoded data removed]"
          },
          "metadata": {
            "needs_background": "light"
          }
        }
      ]
    },
    {
      "cell_type": "code",
      "source": [
        "sns.lineplot(x = 'year', y = 'type_local', data = df_final)"
      ],
      "metadata": {
        "colab": {
          "base_uri": "https://localhost:8080/",
          "height": 296
        },
        "id": "FHlNf2m5TRU0",
        "outputId": "e86b29e4-b28d-434c-b851-7eff12c04d83"
      },
      "execution_count": 149,
      "outputs": [
        {
          "output_type": "execute_result",
          "data": {
            "text/plain": [
              "<matplotlib.axes._subplots.AxesSubplot at 0x7f8b7185cac0>"
            ]
          },
          "metadata": {},
          "execution_count": 149
        },
        {
          "output_type": "display_data",
          "data": {
            "text/plain": [
              "<Figure size 432x288 with 1 Axes>"
            ],
            "image/png": "[encoded data removed]"
          },
          "metadata": {
            "needs_background": "light"
          }
        }
      ]
    },
    {
      "cell_type": "code",
      "source": [
        "df_pop_dem"
      ],
      "metadata": {
        "colab": {
          "base_uri": "https://localhost:8080/",
          "height": 832
        },
        "id": "XWvAFL4YvC4V",
        "outputId": "a98b5217-194f-44bd-9b81-92a613024b01"
      },
      "execution_count": 47,
      "outputs": [
        {
          "output_type": "execute_result",
          "data": {
            "text/plain": [
              "      Code INSEE Code Postal               Commune        Département  \\\n",
              "0          91645       91370  VERRIERES-LE-BUISSON            ESSONNE   \n",
              "1          77133       77126  COURCELLES-EN-BASSEE     SEINE-ET-MARNE   \n",
              "2          91378       91730             MAUCHAMPS            ESSONNE   \n",
              "3          77243       77400       LAGNY-SUR-MARNE     SEINE-ET-MARNE   \n",
              "4          94003       94110               ARCUEIL       VAL-DE-MARNE   \n",
              "...          ...         ...                   ...                ...   \n",
              "1295       77068       77520     CESSOY-EN-MONTOIS     SEINE-ET-MARNE   \n",
              "1296       93078       93420            VILLEPINTE  SEINE-SAINT-DENIS   \n",
              "1297       77061       77130         CANNES-ECLUSE     SEINE-ET-MARNE   \n",
              "1298       78677       78930              VILLETTE           YVELINES   \n",
              "1299       95493       95270  LE PLESSIS-LUZARCHES         VAL-D'OISE   \n",
              "\n",
              "             Région            Statut  Altitude Moyenne  Superficie  \\\n",
              "0     ILE-DE-FRANCE    Commune simple             121.0       999.0   \n",
              "1     ILE-DE-FRANCE    Commune simple              88.0      1082.0   \n",
              "2     ILE-DE-FRANCE    Commune simple             150.0       313.0   \n",
              "3     ILE-DE-FRANCE  Chef-lieu canton              71.0       579.0   \n",
              "4     ILE-DE-FRANCE  Chef-lieu canton              70.0       232.0   \n",
              "...             ...               ...               ...         ...   \n",
              "1295  ILE-DE-FRANCE    Commune simple             137.0       529.0   \n",
              "1296  ILE-DE-FRANCE  Chef-lieu canton              65.0      1042.0   \n",
              "1297  ILE-DE-FRANCE    Commune simple              60.0       862.0   \n",
              "1298  ILE-DE-FRANCE    Commune simple              96.0       462.0   \n",
              "1299  ILE-DE-FRANCE    Commune simple              69.0        91.0   \n",
              "\n",
              "      Population                 geo_point_2d  \\\n",
              "0           15.5    48.75044312,2.25171297214   \n",
              "1            0.2  48.4125606521,3.05294050556   \n",
              "2            0.3  48.5272680908,2.19718165044   \n",
              "3           20.2  48.8730701858,2.70978081313   \n",
              "4           19.5  48.8058803597,2.33351024984   \n",
              "...          ...                          ...   \n",
              "1295         0.2  48.5073073046,3.13884419418   \n",
              "1296        35.7  48.9590202538,2.53630634206   \n",
              "1297         2.6  48.3640376731,2.99078667983   \n",
              "1298         0.5  48.9262788706,1.69374172457   \n",
              "1299         0.1   49.095729672,2.45475644312   \n",
              "\n",
              "                                              geo_shape  ID Geofla  \\\n",
              "0     {\"type\": \"Polygon\", \"coordinates\": [[[2.238024...      16275   \n",
              "1     {\"type\": \"Polygon\", \"coordinates\": [[[3.076046...      31428   \n",
              "2     {\"type\": \"Polygon\", \"coordinates\": [[[2.203466...      30975   \n",
              "3     {\"type\": \"Polygon\", \"coordinates\": [[[2.727542...      17000   \n",
              "4     {\"type\": \"Polygon\", \"coordinates\": [[[2.343851...      32123   \n",
              "...                                                 ...        ...   \n",
              "1295  {\"type\": \"Polygon\", \"coordinates\": [[[3.161508...      21587   \n",
              "1296  {\"type\": \"Polygon\", \"coordinates\": [[[2.557045...      24704   \n",
              "1297  {\"type\": \"Polygon\", \"coordinates\": [[[3.004939...      20172   \n",
              "1298  {\"type\": \"Polygon\", \"coordinates\": [[[1.702290...      24364   \n",
              "1299  {\"type\": \"Polygon\", \"coordinates\": [[[2.453733...      36092   \n",
              "\n",
              "      Code Commune  Code Canton  Code Arrondissement  Code Département  \\\n",
              "0              645            3                    3                91   \n",
              "1              133           20                    3                77   \n",
              "2              378            9                    1                91   \n",
              "3              243           14                    5                77   \n",
              "4                3           34                    3                94   \n",
              "...            ...          ...                  ...               ...   \n",
              "1295            68           10                    3                77   \n",
              "1296            78           40                    2                93   \n",
              "1297            61           20                    3                77   \n",
              "1298           677            7                    1                78   \n",
              "1299           493           15                    2                95   \n",
              "\n",
              "      Code Région  \n",
              "0              11  \n",
              "1              11  \n",
              "2              11  \n",
              "3              11  \n",
              "4              11  \n",
              "...           ...  \n",
              "1295           11  \n",
              "1296           11  \n",
              "1297           11  \n",
              "1298           11  \n",
              "1299           11  \n",
              "\n",
              "[1300 rows x 17 columns]"
            ],
            "text/html": [
              "\n",
              "  <div id=\"df-17af7231-8748-4e7a-9381-354433653ba1\">\n",
              "    <div class=\"colab-df-container\">\n",
              "      <div>\n",
              "<style scoped>\n",
              "    .dataframe tbody tr th:only-of-type {\n",
              "        vertical-align: middle;\n",
              "    }\n",
              "\n",
              "    .dataframe tbody tr th {\n",
              "        vertical-align: top;\n",
              "    }\n",
              "\n",
              "    .dataframe thead th {\n",
              "        text-align: right;\n",
              "    }\n",
              "</style>\n",
              "<table border=\"1\" class=\"dataframe\">\n",
              "  <thead>\n",
              "    <tr style=\"text-align: right;\">\n",
              "      <th></th>\n",
              "      <th>Code INSEE</th>\n",
              "      <th>Code Postal</th>\n",
              "      <th>Commune</th>\n",
              "      <th>Département</th>\n",
              "      <th>Région</th>\n",
              "      <th>Statut</th>\n",
              "      <th>Altitude Moyenne</th>\n",
              "      <th>Superficie</th>\n",
              "      <th>Population</th>\n",
              "      <th>geo_point_2d</th>\n",
              "      <th>geo_shape</th>\n",
              "      <th>ID Geofla</th>\n",
              "      <th>Code Commune</th>\n",
              "      <th>Code Canton</th>\n",
              "      <th>Code Arrondissement</th>\n",
              "      <th>Code Département</th>\n",
              "      <th>Code Région</th>\n",
              "    </tr>\n",
              "  </thead>\n",
              "  <tbody>\n",
              "    <tr>\n",
              "      <th>0</th>\n",
              "      <td>91645</td>\n",
              "      <td>91370</td>\n",
              "      <td>VERRIERES-LE-BUISSON</td>\n",
              "      <td>ESSONNE</td>\n",
              "      <td>ILE-DE-FRANCE</td>\n",
              "      <td>Commune simple</td>\n",
              "      <td>121.0</td>\n",
              "      <td>999.0</td>\n",
              "      <td>15.5</td>\n",
              "      <td>48.75044312,2.25171297214</td>\n",
              "      <td>{\"type\": \"Polygon\", \"coordinates\": [[[2.238024...</td>\n",
              "      <td>16275</td>\n",
              "      <td>645</td>\n",
              "      <td>3</td>\n",
              "      <td>3</td>\n",
              "      <td>91</td>\n",
              "      <td>11</td>\n",
              "    </tr>\n",
              "    <tr>\n",
              "      <th>1</th>\n",
              "      <td>77133</td>\n",
              "      <td>77126</td>\n",
              "      <td>COURCELLES-EN-BASSEE</td>\n",
              "      <td>SEINE-ET-MARNE</td>\n",
              "      <td>ILE-DE-FRANCE</td>\n",
              "      <td>Commune simple</td>\n",
              "      <td>88.0</td>\n",
              "      <td>1082.0</td>\n",
              "      <td>0.2</td>\n",
              "      <td>48.4125606521,3.05294050556</td>\n",
              "      <td>{\"type\": \"Polygon\", \"coordinates\": [[[3.076046...</td>\n",
              "      <td>31428</td>\n",
              "      <td>133</td>\n",
              "      <td>20</td>\n",
              "      <td>3</td>\n",
              "      <td>77</td>\n",
              "      <td>11</td>\n",
              "    </tr>\n",
              "    <tr>\n",
              "      <th>2</th>\n",
              "      <td>91378</td>\n",
              "      <td>91730</td>\n",
              "      <td>MAUCHAMPS</td>\n",
              "      <td>ESSONNE</td>\n",
              "      <td>ILE-DE-FRANCE</td>\n",
              "      <td>Commune simple</td>\n",
              "      <td>150.0</td>\n",
              "      <td>313.0</td>\n",
              "      <td>0.3</td>\n",
              "      <td>48.5272680908,2.19718165044</td>\n",
              "      <td>{\"type\": \"Polygon\", \"coordinates\": [[[2.203466...</td>\n",
              "      <td>30975</td>\n",
              "      <td>378</td>\n",
              "      <td>9</td>\n",
              "      <td>1</td>\n",
              "      <td>91</td>\n",
              "      <td>11</td>\n",
              "    </tr>\n",
              "    <tr>\n",
              "      <th>3</th>\n",
              "      <td>77243</td>\n",
              "      <td>77400</td>\n",
              "      <td>LAGNY-SUR-MARNE</td>\n",
              "      <td>SEINE-ET-MARNE</td>\n",
              "      <td>ILE-DE-FRANCE</td>\n",
              "      <td>Chef-lieu canton</td>\n",
              "      <td>71.0</td>\n",
              "      <td>579.0</td>\n",
              "      <td>20.2</td>\n",
              "      <td>48.8730701858,2.70978081313</td>\n",
              "      <td>{\"type\": \"Polygon\", \"coordinates\": [[[2.727542...</td>\n",
              "      <td>17000</td>\n",
              "      <td>243</td>\n",
              "      <td>14</td>\n",
              "      <td>5</td>\n",
              "      <td>77</td>\n",
              "      <td>11</td>\n",
              "    </tr>\n",
              "    <tr>\n",
              "      <th>4</th>\n",
              "      <td>94003</td>\n",
              "      <td>94110</td>\n",
              "      <td>ARCUEIL</td>\n",
              "      <td>VAL-DE-MARNE</td>\n",
              "      <td>ILE-DE-FRANCE</td>\n",
              "      <td>Chef-lieu canton</td>\n",
              "      <td>70.0</td>\n",
              "      <td>232.0</td>\n",
              "      <td>19.5</td>\n",
              "      <td>48.8058803597,2.33351024984</td>\n",
              "      <td>{\"type\": \"Polygon\", \"coordinates\": [[[2.343851...</td>\n",
              "      <td>32123</td>\n",
              "      <td>3</td>\n",
              "      <td>34</td>\n",
              "      <td>3</td>\n",
              "      <td>94</td>\n",
              "      <td>11</td>\n",
              "    </tr>\n",
              "    <tr>\n",
              "      <th>...</th>\n",
              "      <td>...</td>\n",
              "      <td>...</td>\n",
              "      <td>...</td>\n",
              "      <td>...</td>\n",
              "      <td>...</td>\n",
              "      <td>...</td>\n",
              "      <td>...</td>\n",
              "      <td>...</td>\n",
              "      <td>...</td>\n",
              "      <td>...</td>\n",
              "      <td>...</td>\n",
              "      <td>...</td>\n",
              "      <td>...</td>\n",
              "      <td>...</td>\n",
              "      <td>...</td>\n",
              "      <td>...</td>\n",
              "      <td>...</td>\n",
              "    </tr>\n",
              "    <tr>\n",
              "      <th>1295</th>\n",
              "      <td>77068</td>\n",
              "      <td>77520</td>\n",
              "      <td>CESSOY-EN-MONTOIS</td>\n",
              "      <td>SEINE-ET-MARNE</td>\n",
              "      <td>ILE-DE-FRANCE</td>\n",
              "      <td>Commune simple</td>\n",
              "      <td>137.0</td>\n",
              "      <td>529.0</td>\n",
              "      <td>0.2</td>\n",
              "      <td>48.5073073046,3.13884419418</td>\n",
              "      <td>{\"type\": \"Polygon\", \"coordinates\": [[[3.161508...</td>\n",
              "      <td>21587</td>\n",
              "      <td>68</td>\n",
              "      <td>10</td>\n",
              "      <td>3</td>\n",
              "      <td>77</td>\n",
              "      <td>11</td>\n",
              "    </tr>\n",
              "    <tr>\n",
              "      <th>1296</th>\n",
              "      <td>93078</td>\n",
              "      <td>93420</td>\n",
              "      <td>VILLEPINTE</td>\n",
              "      <td>SEINE-SAINT-DENIS</td>\n",
              "      <td>ILE-DE-FRANCE</td>\n",
              "      <td>Chef-lieu canton</td>\n",
              "      <td>65.0</td>\n",
              "      <td>1042.0</td>\n",
              "      <td>35.7</td>\n",
              "      <td>48.9590202538,2.53630634206</td>\n",
              "      <td>{\"type\": \"Polygon\", \"coordinates\": [[[2.557045...</td>\n",
              "      <td>24704</td>\n",
              "      <td>78</td>\n",
              "      <td>40</td>\n",
              "      <td>2</td>\n",
              "      <td>93</td>\n",
              "      <td>11</td>\n",
              "    </tr>\n",
              "    <tr>\n",
              "      <th>1297</th>\n",
              "      <td>77061</td>\n",
              "      <td>77130</td>\n",
              "      <td>CANNES-ECLUSE</td>\n",
              "      <td>SEINE-ET-MARNE</td>\n",
              "      <td>ILE-DE-FRANCE</td>\n",
              "      <td>Commune simple</td>\n",
              "      <td>60.0</td>\n",
              "      <td>862.0</td>\n",
              "      <td>2.6</td>\n",
              "      <td>48.3640376731,2.99078667983</td>\n",
              "      <td>{\"type\": \"Polygon\", \"coordinates\": [[[3.004939...</td>\n",
              "      <td>20172</td>\n",
              "      <td>61</td>\n",
              "      <td>20</td>\n",
              "      <td>3</td>\n",
              "      <td>77</td>\n",
              "      <td>11</td>\n",
              "    </tr>\n",
              "    <tr>\n",
              "      <th>1298</th>\n",
              "      <td>78677</td>\n",
              "      <td>78930</td>\n",
              "      <td>VILLETTE</td>\n",
              "      <td>YVELINES</td>\n",
              "      <td>ILE-DE-FRANCE</td>\n",
              "      <td>Commune simple</td>\n",
              "      <td>96.0</td>\n",
              "      <td>462.0</td>\n",
              "      <td>0.5</td>\n",
              "      <td>48.9262788706,1.69374172457</td>\n",
              "      <td>{\"type\": \"Polygon\", \"coordinates\": [[[1.702290...</td>\n",
              "      <td>24364</td>\n",
              "      <td>677</td>\n",
              "      <td>7</td>\n",
              "      <td>1</td>\n",
              "      <td>78</td>\n",
              "      <td>11</td>\n",
              "    </tr>\n",
              "    <tr>\n",
              "      <th>1299</th>\n",
              "      <td>95493</td>\n",
              "      <td>95270</td>\n",
              "      <td>LE PLESSIS-LUZARCHES</td>\n",
              "      <td>VAL-D'OISE</td>\n",
              "      <td>ILE-DE-FRANCE</td>\n",
              "      <td>Commune simple</td>\n",
              "      <td>69.0</td>\n",
              "      <td>91.0</td>\n",
              "      <td>0.1</td>\n",
              "      <td>49.095729672,2.45475644312</td>\n",
              "      <td>{\"type\": \"Polygon\", \"coordinates\": [[[2.453733...</td>\n",
              "      <td>36092</td>\n",
              "      <td>493</td>\n",
              "      <td>15</td>\n",
              "      <td>2</td>\n",
              "      <td>95</td>\n",
              "      <td>11</td>\n",
              "    </tr>\n",
              "  </tbody>\n",
              "</table>\n",
              "<p>1300 rows × 17 columns</p>\n",
              "</div>\n",
              "      <button class=\"colab-df-convert\" onclick=\"convertToInteractive('df-17af7231-8748-4e7a-9381-354433653ba1')\"\n",
              "              title=\"Convert this dataframe to an interactive table.\"\n",
              "              style=\"display:none;\">\n",
              "        \n",
              "  <svg xmlns=\"http://www.w3.org/2000/svg\" height=\"24px\"viewBox=\"0 0 24 24\"\n",
              "       width=\"24px\">\n",
              "    <path d=\"M0 0h24v24H0V0z\" fill=\"none\"/>\n",
              "    <path d=\"M18.56 5.44l.94 2.06.94-2.06 2.06-.94-2.06-.94-.94-2.06-.94 2.06-2.06.94zm-11 1L8.5 8.5l.94-2.06 2.06-.94-2.06-.94L8.5 2.5l-.94 2.06-2.06.94zm10 10l.94 2.06.94-2.06 2.06-.94-2.06-.94-.94-2.06-.94 2.06-2.06.94z\"/><path d=\"M17.41 7.96l-1.37-1.37c-.4-.4-.92-.59-1.43-.59-.52 0-1.04.2-1.43.59L10.3 9.45l-7.72 7.72c-.78.78-.78 2.05 0 2.83L4 21.41c.39.39.9.59 1.41.59.51 0 1.02-.2 1.41-.59l7.78-7.78 2.81-2.81c.8-.78.8-2.07 0-2.86zM5.41 20L4 18.59l7.72-7.72 1.47 1.35L5.41 20z\"/>\n",
              "  </svg>\n",
              "      </button>\n",
              "      \n",
              "  <style>\n",
              "    .colab-df-container {\n",
              "      display:flex;\n",
              "      flex-wrap:wrap;\n",
              "      gap: 12px;\n",
              "    }\n",
              "\n",
              "    .colab-df-convert {\n",
              "      background-color: #E8F0FE;\n",
              "      border: none;\n",
              "      border-radius: 50%;\n",
              "      cursor: pointer;\n",
              "      display: none;\n",
              "      fill: #1967D2;\n",
              "      height: 32px;\n",
              "      padding: 0 0 0 0;\n",
              "      width: 32px;\n",
              "    }\n",
              "\n",
              "    .colab-df-convert:hover {\n",
              "      background-color: #E2EBFA;\n",
              "      box-shadow: 0px 1px 2px rgba(60, 64, 67, 0.3), 0px 1px 3px 1px rgba(60, 64, 67, 0.15);\n",
              "      fill: #174EA6;\n",
              "    }\n",
              "\n",
              "    [theme=dark] .colab-df-convert {\n",
              "      background-color: #3B4455;\n",
              "      fill: #D2E3FC;\n",
              "    }\n",
              "\n",
              "    [theme=dark] .colab-df-convert:hover {\n",
              "      background-color: #434B5C;\n",
              "      box-shadow: 0px 1px 3px 1px rgba(0, 0, 0, 0.15);\n",
              "      filter: drop-shadow(0px 1px 2px rgba(0, 0, 0, 0.3));\n",
              "      fill: #FFFFFF;\n",
              "    }\n",
              "  </style>\n",
              "\n",
              "      <script>\n",
              "        const buttonEl =\n",
              "          document.querySelector('#df-17af7231-8748-4e7a-9381-354433653ba1 button.colab-df-convert');\n",
              "        buttonEl.style.display =\n",
              "          google.colab.kernel.accessAllowed ? 'block' : 'none';\n",
              "\n",
              "        async function convertToInteractive(key) {\n",
              "          const element = document.querySelector('#df-17af7231-8748-4e7a-9381-354433653ba1');\n",
              "          const dataTable =\n",
              "            await google.colab.kernel.invokeFunction('convertToInteractive',\n",
              "                                                     [key], {});\n",
              "          if (!dataTable) return;\n",
              "\n",
              "          const docLinkHtml = 'Like what you see? Visit the ' +\n",
              "            '<a target=\"_blank\" href=https://colab.research.google.com/notebooks/data_table.ipynb>data table notebook</a>'\n",
              "            + ' to learn more about interactive tables.';\n",
              "          element.innerHTML = '';\n",
              "          dataTable['output_type'] = 'display_data';\n",
              "          await google.colab.output.renderOutput(dataTable, element);\n",
              "          const docLink = document.createElement('div');\n",
              "          docLink.innerHTML = docLinkHtml;\n",
              "          element.appendChild(docLink);\n",
              "        }\n",
              "      </script>\n",
              "    </div>\n",
              "  </div>\n",
              "  "
            ]
          },
          "metadata": {},
          "execution_count": 47
        }
      ]
    },
    {
      "cell_type": "code",
      "source": [
        "df_pop_dem['Code Département'].value_counts()"
      ],
      "metadata": {
        "colab": {
          "base_uri": "https://localhost:8080/"
        },
        "id": "L26Ynzh3V6KU",
        "outputId": "7da93ba5-68c6-4fd9-bcdc-afda548960ef"
      },
      "execution_count": 53,
      "outputs": [
        {
          "output_type": "execute_result",
          "data": {
            "text/plain": [
              "77    514\n",
              "78    262\n",
              "91    196\n",
              "95    185\n",
              "94     47\n",
              "93     40\n",
              "92     36\n",
              "75     20\n",
              "Name: Code Département, dtype: int64"
            ]
          },
          "metadata": {},
          "execution_count": 53
        }
      ]
    },
    {
      "cell_type": "code",
      "source": [
        "df_pop_dem['Département'].value_counts()"
      ],
      "metadata": {
        "colab": {
          "base_uri": "https://localhost:8080/"
        },
        "id": "2pHrFBEYZjXl",
        "outputId": "bae0df72-1d1a-4dc4-d93b-d8b2588569ab"
      },
      "execution_count": 56,
      "outputs": [
        {
          "output_type": "execute_result",
          "data": {
            "text/plain": [
              "SEINE-ET-MARNE       514\n",
              "YVELINES             262\n",
              "ESSONNE              196\n",
              "VAL-D'OISE           185\n",
              "VAL-DE-MARNE          47\n",
              "SEINE-SAINT-DENIS     40\n",
              "HAUTS-DE-SEINE        36\n",
              "PARIS                 20\n",
              "Name: Département, dtype: int64"
            ]
          },
          "metadata": {},
          "execution_count": 56
        }
      ]
    },
    {
      "cell_type": "code",
      "source": [
        "import plotly.express as px\n",
        "fig = px.scatter_geo(df_pop_dem, locations= 'Région', color=\"Département\",\n",
        "                     hover_name=\"Département\", size=\"Population\",\n",
        "                     projection=\"Paris\")\n",
        "fig.show()"
      ],
      "metadata": {
        "colab": {
          "base_uri": "https://localhost:8080/",
          "height": 884
        },
        "id": "Ya4U-2mqKCBm",
        "outputId": "d74be6a5-91ce-4940-af67-f7df29874816"
      },
      "execution_count": 65,
      "outputs": [
        {
          "output_type": "error",
          "ename": "ValueError",
          "evalue": "ignored",
          "traceback": [
            "\u001b[0;31m---------------------------------------------------------------------------\u001b[0m",
            "\u001b[0;31mValueError\u001b[0m                                Traceback (most recent call last)",
            "\u001b[0;32m<ipython-input-65-c2bd23895164>\u001b[0m in \u001b[0;36m<module>\u001b[0;34m\u001b[0m\n\u001b[1;32m      1\u001b[0m \u001b[0;32mimport\u001b[0m \u001b[0mplotly\u001b[0m\u001b[0;34m.\u001b[0m\u001b[0mexpress\u001b[0m \u001b[0;32mas\u001b[0m \u001b[0mpx\u001b[0m\u001b[0;34m\u001b[0m\u001b[0;34m\u001b[0m\u001b[0m\n\u001b[0;32m----> 2\u001b[0;31m fig = px.scatter_geo(df_pop_dem, locations= 'Région', color=\"Département\",\n\u001b[0m\u001b[1;32m      3\u001b[0m                      \u001b[0mhover_name\u001b[0m\u001b[0;34m=\u001b[0m\u001b[0;34m\"Département\"\u001b[0m\u001b[0;34m,\u001b[0m \u001b[0msize\u001b[0m\u001b[0;34m=\u001b[0m\u001b[0;34m\"Population\"\u001b[0m\u001b[0;34m,\u001b[0m\u001b[0;34m\u001b[0m\u001b[0;34m\u001b[0m\u001b[0m\n\u001b[1;32m      4\u001b[0m                      projection=\"Paris\")\n\u001b[1;32m      5\u001b[0m \u001b[0mfig\u001b[0m\u001b[0;34m.\u001b[0m\u001b[0mshow\u001b[0m\u001b[0;34m(\u001b[0m\u001b[0;34m)\u001b[0m\u001b[0;34m\u001b[0m\u001b[0;34m\u001b[0m\u001b[0m\n",
            "\u001b[0;32m/usr/local/lib/python3.8/dist-packages/plotly/express/_chart_types.py\u001b[0m in \u001b[0;36mscatter_geo\u001b[0;34m(data_frame, lat, lon, locations, locationmode, geojson, featureidkey, color, text, symbol, facet_row, facet_col, facet_col_wrap, facet_row_spacing, facet_col_spacing, hover_name, hover_data, custom_data, size, animation_frame, animation_group, category_orders, labels, color_discrete_sequence, color_discrete_map, color_continuous_scale, range_color, color_continuous_midpoint, symbol_sequence, symbol_map, opacity, size_max, projection, scope, center, fitbounds, basemap_visible, title, template, width, height)\u001b[0m\n\u001b[1;32m   1132\u001b[0m     \u001b[0mby\u001b[0m \u001b[0ma\u001b[0m \u001b[0msymbol\u001b[0m \u001b[0mmark\u001b[0m \u001b[0mon\u001b[0m \u001b[0ma\u001b[0m \u001b[0mmap\u001b[0m\u001b[0;34m.\u001b[0m\u001b[0;34m\u001b[0m\u001b[0;34m\u001b[0m\u001b[0m\n\u001b[1;32m   1133\u001b[0m     \"\"\"\n\u001b[0;32m-> 1134\u001b[0;31m     return make_figure(\n\u001b[0m\u001b[1;32m   1135\u001b[0m         \u001b[0margs\u001b[0m\u001b[0;34m=\u001b[0m\u001b[0mlocals\u001b[0m\u001b[0;34m(\u001b[0m\u001b[0;34m)\u001b[0m\u001b[0;34m,\u001b[0m\u001b[0;34m\u001b[0m\u001b[0;34m\u001b[0m\u001b[0m\n\u001b[1;32m   1136\u001b[0m         \u001b[0mconstructor\u001b[0m\u001b[0;34m=\u001b[0m\u001b[0mgo\u001b[0m\u001b[0;34m.\u001b[0m\u001b[0mScattergeo\u001b[0m\u001b[0;34m,\u001b[0m\u001b[0;34m\u001b[0m\u001b[0;34m\u001b[0m\u001b[0m\n",
            "\u001b[0;32m/usr/local/lib/python3.8/dist-packages/plotly/express/_core.py\u001b[0m in \u001b[0;36mmake_figure\u001b[0;34m(args, constructor, trace_patch, layout_patch)\u001b[0m\n\u001b[1;32m   2229\u001b[0m     \u001b[0mfig\u001b[0m\u001b[0;34m.\u001b[0m\u001b[0m_px_trendlines\u001b[0m \u001b[0;34m=\u001b[0m \u001b[0mpd\u001b[0m\u001b[0;34m.\u001b[0m\u001b[0mDataFrame\u001b[0m\u001b[0;34m(\u001b[0m\u001b[0mtrendline_rows\u001b[0m\u001b[0;34m)\u001b[0m\u001b[0;34m\u001b[0m\u001b[0;34m\u001b[0m\u001b[0m\n\u001b[1;32m   2230\u001b[0m \u001b[0;34m\u001b[0m\u001b[0m\n\u001b[0;32m-> 2231\u001b[0;31m     \u001b[0mconfigure_axes\u001b[0m\u001b[0;34m(\u001b[0m\u001b[0margs\u001b[0m\u001b[0;34m,\u001b[0m \u001b[0mconstructor\u001b[0m\u001b[0;34m,\u001b[0m \u001b[0mfig\u001b[0m\u001b[0;34m,\u001b[0m \u001b[0morders\u001b[0m\u001b[0;34m)\u001b[0m\u001b[0;34m\u001b[0m\u001b[0;34m\u001b[0m\u001b[0m\n\u001b[0m\u001b[1;32m   2232\u001b[0m     \u001b[0mconfigure_animation_controls\u001b[0m\u001b[0;34m(\u001b[0m\u001b[0margs\u001b[0m\u001b[0;34m,\u001b[0m \u001b[0mconstructor\u001b[0m\u001b[0;34m,\u001b[0m \u001b[0mfig\u001b[0m\u001b[0;34m)\u001b[0m\u001b[0;34m\u001b[0m\u001b[0;34m\u001b[0m\u001b[0m\n\u001b[1;32m   2233\u001b[0m     \u001b[0;32mreturn\u001b[0m \u001b[0mfig\u001b[0m\u001b[0;34m\u001b[0m\u001b[0;34m\u001b[0m\u001b[0m\n",
            "\u001b[0;32m/usr/local/lib/python3.8/dist-packages/plotly/express/_core.py\u001b[0m in \u001b[0;36mconfigure_axes\u001b[0;34m(args, constructor, fig, orders)\u001b[0m\n\u001b[1;32m    539\u001b[0m         \u001b[0mconfigurators\u001b[0m\u001b[0;34m[\u001b[0m\u001b[0mc\u001b[0m\u001b[0;34m]\u001b[0m \u001b[0;34m=\u001b[0m \u001b[0mconfigure_cartesian_axes\u001b[0m\u001b[0;34m\u001b[0m\u001b[0;34m\u001b[0m\u001b[0m\n\u001b[1;32m    540\u001b[0m     \u001b[0;32mif\u001b[0m \u001b[0mconstructor\u001b[0m \u001b[0;32min\u001b[0m \u001b[0mconfigurators\u001b[0m\u001b[0;34m:\u001b[0m\u001b[0;34m\u001b[0m\u001b[0;34m\u001b[0m\u001b[0m\n\u001b[0;32m--> 541\u001b[0;31m         \u001b[0mconfigurators\u001b[0m\u001b[0;34m[\u001b[0m\u001b[0mconstructor\u001b[0m\u001b[0;34m]\u001b[0m\u001b[0;34m(\u001b[0m\u001b[0margs\u001b[0m\u001b[0;34m,\u001b[0m \u001b[0mfig\u001b[0m\u001b[0;34m,\u001b[0m \u001b[0morders\u001b[0m\u001b[0;34m)\u001b[0m\u001b[0;34m\u001b[0m\u001b[0;34m\u001b[0m\u001b[0m\n\u001b[0m\u001b[1;32m    542\u001b[0m \u001b[0;34m\u001b[0m\u001b[0m\n\u001b[1;32m    543\u001b[0m \u001b[0;34m\u001b[0m\u001b[0m\n",
            "\u001b[0;32m/usr/local/lib/python3.8/dist-packages/plotly/express/_core.py\u001b[0m in \u001b[0;36mconfigure_geo\u001b[0;34m(args, fig, orders)\u001b[0m\n\u001b[1;32m    739\u001b[0m \u001b[0;34m\u001b[0m\u001b[0m\n\u001b[1;32m    740\u001b[0m \u001b[0;32mdef\u001b[0m \u001b[0mconfigure_geo\u001b[0m\u001b[0;34m(\u001b[0m\u001b[0margs\u001b[0m\u001b[0;34m,\u001b[0m \u001b[0mfig\u001b[0m\u001b[0;34m,\u001b[0m \u001b[0morders\u001b[0m\u001b[0;34m)\u001b[0m\u001b[0;34m:\u001b[0m\u001b[0;34m\u001b[0m\u001b[0;34m\u001b[0m\u001b[0m\n\u001b[0;32m--> 741\u001b[0;31m     fig.update_geos(\n\u001b[0m\u001b[1;32m    742\u001b[0m         \u001b[0mcenter\u001b[0m\u001b[0;34m=\u001b[0m\u001b[0margs\u001b[0m\u001b[0;34m[\u001b[0m\u001b[0;34m\"center\"\u001b[0m\u001b[0;34m]\u001b[0m\u001b[0;34m,\u001b[0m\u001b[0;34m\u001b[0m\u001b[0;34m\u001b[0m\u001b[0m\n\u001b[1;32m    743\u001b[0m         \u001b[0mscope\u001b[0m\u001b[0;34m=\u001b[0m\u001b[0margs\u001b[0m\u001b[0;34m[\u001b[0m\u001b[0;34m\"scope\"\u001b[0m\u001b[0;34m]\u001b[0m\u001b[0;34m,\u001b[0m\u001b[0;34m\u001b[0m\u001b[0;34m\u001b[0m\u001b[0m\n",
            "\u001b[0;32m/usr/local/lib/python3.8/dist-packages/plotly/graph_objs/_figure.py\u001b[0m in \u001b[0;36mupdate_geos\u001b[0;34m(self, patch, selector, overwrite, row, col, **kwargs)\u001b[0m\n\u001b[1;32m  20149\u001b[0m         \"\"\"\n\u001b[1;32m  20150\u001b[0m         \u001b[0;32mfor\u001b[0m \u001b[0mobj\u001b[0m \u001b[0;32min\u001b[0m \u001b[0mself\u001b[0m\u001b[0;34m.\u001b[0m\u001b[0mselect_geos\u001b[0m\u001b[0;34m(\u001b[0m\u001b[0mselector\u001b[0m\u001b[0;34m=\u001b[0m\u001b[0mselector\u001b[0m\u001b[0;34m,\u001b[0m \u001b[0mrow\u001b[0m\u001b[0;34m=\u001b[0m\u001b[0mrow\u001b[0m\u001b[0;34m,\u001b[0m \u001b[0mcol\u001b[0m\u001b[0;34m=\u001b[0m\u001b[0mcol\u001b[0m\u001b[0;34m)\u001b[0m\u001b[0;34m:\u001b[0m\u001b[0;34m\u001b[0m\u001b[0;34m\u001b[0m\u001b[0m\n\u001b[0;32m> 20151\u001b[0;31m             \u001b[0mobj\u001b[0m\u001b[0;34m.\u001b[0m\u001b[0mupdate\u001b[0m\u001b[0;34m(\u001b[0m\u001b[0mpatch\u001b[0m\u001b[0;34m,\u001b[0m \u001b[0moverwrite\u001b[0m\u001b[0;34m=\u001b[0m\u001b[0moverwrite\u001b[0m\u001b[0;34m,\u001b[0m \u001b[0;34m**\u001b[0m\u001b[0mkwargs\u001b[0m\u001b[0;34m)\u001b[0m\u001b[0;34m\u001b[0m\u001b[0;34m\u001b[0m\u001b[0m\n\u001b[0m\u001b[1;32m  20152\u001b[0m \u001b[0;34m\u001b[0m\u001b[0m\n\u001b[1;32m  20153\u001b[0m         \u001b[0;32mreturn\u001b[0m \u001b[0mself\u001b[0m\u001b[0;34m\u001b[0m\u001b[0;34m\u001b[0m\u001b[0m\n",
            "\u001b[0;32m/usr/local/lib/python3.8/dist-packages/plotly/basedatatypes.py\u001b[0m in \u001b[0;36mupdate\u001b[0;34m(self, dict1, overwrite, **kwargs)\u001b[0m\n\u001b[1;32m   5088\u001b[0m             \u001b[0;32mwith\u001b[0m \u001b[0mself\u001b[0m\u001b[0;34m.\u001b[0m\u001b[0mfigure\u001b[0m\u001b[0;34m.\u001b[0m\u001b[0mbatch_update\u001b[0m\u001b[0;34m(\u001b[0m\u001b[0;34m)\u001b[0m\u001b[0;34m:\u001b[0m\u001b[0;34m\u001b[0m\u001b[0;34m\u001b[0m\u001b[0m\n\u001b[1;32m   5089\u001b[0m                 \u001b[0mBaseFigure\u001b[0m\u001b[0;34m.\u001b[0m\u001b[0m_perform_update\u001b[0m\u001b[0;34m(\u001b[0m\u001b[0mself\u001b[0m\u001b[0;34m,\u001b[0m \u001b[0mdict1\u001b[0m\u001b[0;34m,\u001b[0m \u001b[0moverwrite\u001b[0m\u001b[0;34m=\u001b[0m\u001b[0moverwrite\u001b[0m\u001b[0;34m)\u001b[0m\u001b[0;34m\u001b[0m\u001b[0;34m\u001b[0m\u001b[0m\n\u001b[0;32m-> 5090\u001b[0;31m                 \u001b[0mBaseFigure\u001b[0m\u001b[0;34m.\u001b[0m\u001b[0m_perform_update\u001b[0m\u001b[0;34m(\u001b[0m\u001b[0mself\u001b[0m\u001b[0;34m,\u001b[0m \u001b[0mkwargs\u001b[0m\u001b[0;34m,\u001b[0m \u001b[0moverwrite\u001b[0m\u001b[0;34m=\u001b[0m\u001b[0moverwrite\u001b[0m\u001b[0;34m)\u001b[0m\u001b[0;34m\u001b[0m\u001b[0;34m\u001b[0m\u001b[0m\n\u001b[0m\u001b[1;32m   5091\u001b[0m         \u001b[0;32melse\u001b[0m\u001b[0;34m:\u001b[0m\u001b[0;34m\u001b[0m\u001b[0;34m\u001b[0m\u001b[0m\n\u001b[1;32m   5092\u001b[0m             \u001b[0mBaseFigure\u001b[0m\u001b[0;34m.\u001b[0m\u001b[0m_perform_update\u001b[0m\u001b[0;34m(\u001b[0m\u001b[0mself\u001b[0m\u001b[0;34m,\u001b[0m \u001b[0mdict1\u001b[0m\u001b[0;34m,\u001b[0m \u001b[0moverwrite\u001b[0m\u001b[0;34m=\u001b[0m\u001b[0moverwrite\u001b[0m\u001b[0;34m)\u001b[0m\u001b[0;34m\u001b[0m\u001b[0;34m\u001b[0m\u001b[0m\n",
            "\u001b[0;32m/usr/local/lib/python3.8/dist-packages/plotly/basedatatypes.py\u001b[0m in \u001b[0;36m_perform_update\u001b[0;34m(plotly_obj, update_obj, overwrite)\u001b[0m\n\u001b[1;32m   3906\u001b[0m                     \u001b[0;31m# Update compound objects recursively\u001b[0m\u001b[0;34m\u001b[0m\u001b[0;34m\u001b[0m\u001b[0;34m\u001b[0m\u001b[0m\n\u001b[1;32m   3907\u001b[0m                     \u001b[0;31m# plotly_obj[key].update(val)\u001b[0m\u001b[0;34m\u001b[0m\u001b[0;34m\u001b[0m\u001b[0;34m\u001b[0m\u001b[0m\n\u001b[0;32m-> 3908\u001b[0;31m                     \u001b[0mBaseFigure\u001b[0m\u001b[0;34m.\u001b[0m\u001b[0m_perform_update\u001b[0m\u001b[0;34m(\u001b[0m\u001b[0mplotly_obj\u001b[0m\u001b[0;34m[\u001b[0m\u001b[0mkey\u001b[0m\u001b[0;34m]\u001b[0m\u001b[0;34m,\u001b[0m \u001b[0mval\u001b[0m\u001b[0;34m)\u001b[0m\u001b[0;34m\u001b[0m\u001b[0;34m\u001b[0m\u001b[0m\n\u001b[0m\u001b[1;32m   3909\u001b[0m                 \u001b[0;32melif\u001b[0m \u001b[0misinstance\u001b[0m\u001b[0;34m(\u001b[0m\u001b[0mvalidator\u001b[0m\u001b[0;34m,\u001b[0m \u001b[0mCompoundArrayValidator\u001b[0m\u001b[0;34m)\u001b[0m\u001b[0;34m:\u001b[0m\u001b[0;34m\u001b[0m\u001b[0;34m\u001b[0m\u001b[0m\n\u001b[1;32m   3910\u001b[0m                     \u001b[0;32mif\u001b[0m \u001b[0mplotly_obj\u001b[0m\u001b[0;34m[\u001b[0m\u001b[0mkey\u001b[0m\u001b[0;34m]\u001b[0m\u001b[0;34m:\u001b[0m\u001b[0;34m\u001b[0m\u001b[0;34m\u001b[0m\u001b[0m\n",
            "\u001b[0;32m/usr/local/lib/python3.8/dist-packages/plotly/basedatatypes.py\u001b[0m in \u001b[0;36m_perform_update\u001b[0;34m(plotly_obj, update_obj, overwrite)\u001b[0m\n\u001b[1;32m   3927\u001b[0m                 \u001b[0;32melse\u001b[0m\u001b[0;34m:\u001b[0m\u001b[0;34m\u001b[0m\u001b[0;34m\u001b[0m\u001b[0m\n\u001b[1;32m   3928\u001b[0m                     \u001b[0;31m# Assign non-compound value\u001b[0m\u001b[0;34m\u001b[0m\u001b[0;34m\u001b[0m\u001b[0;34m\u001b[0m\u001b[0m\n\u001b[0;32m-> 3929\u001b[0;31m                     \u001b[0mplotly_obj\u001b[0m\u001b[0;34m[\u001b[0m\u001b[0mkey\u001b[0m\u001b[0;34m]\u001b[0m \u001b[0;34m=\u001b[0m \u001b[0mval\u001b[0m\u001b[0;34m\u001b[0m\u001b[0;34m\u001b[0m\u001b[0m\n\u001b[0m\u001b[1;32m   3930\u001b[0m \u001b[0;34m\u001b[0m\u001b[0m\n\u001b[1;32m   3931\u001b[0m         \u001b[0;32melif\u001b[0m \u001b[0misinstance\u001b[0m\u001b[0;34m(\u001b[0m\u001b[0mplotly_obj\u001b[0m\u001b[0;34m,\u001b[0m \u001b[0mtuple\u001b[0m\u001b[0;34m)\u001b[0m\u001b[0;34m:\u001b[0m\u001b[0;34m\u001b[0m\u001b[0;34m\u001b[0m\u001b[0m\n",
            "\u001b[0;32m/usr/local/lib/python3.8/dist-packages/plotly/basedatatypes.py\u001b[0m in \u001b[0;36m__setitem__\u001b[0;34m(self, prop, value)\u001b[0m\n\u001b[1;32m   4825\u001b[0m                 \u001b[0;31m# ### Handle simple property ###\u001b[0m\u001b[0;34m\u001b[0m\u001b[0;34m\u001b[0m\u001b[0;34m\u001b[0m\u001b[0m\n\u001b[1;32m   4826\u001b[0m                 \u001b[0;32melse\u001b[0m\u001b[0;34m:\u001b[0m\u001b[0;34m\u001b[0m\u001b[0;34m\u001b[0m\u001b[0m\n\u001b[0;32m-> 4827\u001b[0;31m                     \u001b[0mself\u001b[0m\u001b[0;34m.\u001b[0m\u001b[0m_set_prop\u001b[0m\u001b[0;34m(\u001b[0m\u001b[0mprop\u001b[0m\u001b[0;34m,\u001b[0m \u001b[0mvalue\u001b[0m\u001b[0;34m)\u001b[0m\u001b[0;34m\u001b[0m\u001b[0;34m\u001b[0m\u001b[0m\n\u001b[0m\u001b[1;32m   4828\u001b[0m             \u001b[0;32melse\u001b[0m\u001b[0;34m:\u001b[0m\u001b[0;34m\u001b[0m\u001b[0;34m\u001b[0m\u001b[0m\n\u001b[1;32m   4829\u001b[0m                 \u001b[0;31m# Make sure properties dict is initialized\u001b[0m\u001b[0;34m\u001b[0m\u001b[0;34m\u001b[0m\u001b[0;34m\u001b[0m\u001b[0m\n",
            "\u001b[0;32m/usr/local/lib/python3.8/dist-packages/plotly/basedatatypes.py\u001b[0m in \u001b[0;36m_set_prop\u001b[0;34m(self, prop, val)\u001b[0m\n\u001b[1;32m   5169\u001b[0m                 \u001b[0;32mreturn\u001b[0m\u001b[0;34m\u001b[0m\u001b[0;34m\u001b[0m\u001b[0m\n\u001b[1;32m   5170\u001b[0m             \u001b[0;32melse\u001b[0m\u001b[0;34m:\u001b[0m\u001b[0;34m\u001b[0m\u001b[0;34m\u001b[0m\u001b[0m\n\u001b[0;32m-> 5171\u001b[0;31m                 \u001b[0;32mraise\u001b[0m \u001b[0merr\u001b[0m\u001b[0;34m\u001b[0m\u001b[0;34m\u001b[0m\u001b[0m\n\u001b[0m\u001b[1;32m   5172\u001b[0m \u001b[0;34m\u001b[0m\u001b[0m\n\u001b[1;32m   5173\u001b[0m         \u001b[0;31m# val is None\u001b[0m\u001b[0;34m\u001b[0m\u001b[0;34m\u001b[0m\u001b[0;34m\u001b[0m\u001b[0m\n",
            "\u001b[0;32m/usr/local/lib/python3.8/dist-packages/plotly/basedatatypes.py\u001b[0m in \u001b[0;36m_set_prop\u001b[0;34m(self, prop, val)\u001b[0m\n\u001b[1;32m   5164\u001b[0m \u001b[0;34m\u001b[0m\u001b[0m\n\u001b[1;32m   5165\u001b[0m         \u001b[0;32mtry\u001b[0m\u001b[0;34m:\u001b[0m\u001b[0;34m\u001b[0m\u001b[0;34m\u001b[0m\u001b[0m\n\u001b[0;32m-> 5166\u001b[0;31m             \u001b[0mval\u001b[0m \u001b[0;34m=\u001b[0m \u001b[0mvalidator\u001b[0m\u001b[0;34m.\u001b[0m\u001b[0mvalidate_coerce\u001b[0m\u001b[0;34m(\u001b[0m\u001b[0mval\u001b[0m\u001b[0;34m)\u001b[0m\u001b[0;34m\u001b[0m\u001b[0;34m\u001b[0m\u001b[0m\n\u001b[0m\u001b[1;32m   5167\u001b[0m         \u001b[0;32mexcept\u001b[0m \u001b[0mValueError\u001b[0m \u001b[0;32mas\u001b[0m \u001b[0merr\u001b[0m\u001b[0;34m:\u001b[0m\u001b[0;34m\u001b[0m\u001b[0;34m\u001b[0m\u001b[0m\n\u001b[1;32m   5168\u001b[0m             \u001b[0;32mif\u001b[0m \u001b[0mself\u001b[0m\u001b[0;34m.\u001b[0m\u001b[0m_skip_invalid\u001b[0m\u001b[0;34m:\u001b[0m\u001b[0;34m\u001b[0m\u001b[0;34m\u001b[0m\u001b[0m\n",
            "\u001b[0;32m/usr/local/lib/python3.8/dist-packages/_plotly_utils/basevalidators.py\u001b[0m in \u001b[0;36mvalidate_coerce\u001b[0;34m(self, v)\u001b[0m\n\u001b[1;32m    616\u001b[0m             \u001b[0mv\u001b[0m \u001b[0;34m=\u001b[0m \u001b[0mself\u001b[0m\u001b[0;34m.\u001b[0m\u001b[0mperform_replacemenet\u001b[0m\u001b[0;34m(\u001b[0m\u001b[0mv\u001b[0m\u001b[0;34m)\u001b[0m\u001b[0;34m\u001b[0m\u001b[0;34m\u001b[0m\u001b[0m\n\u001b[1;32m    617\u001b[0m             \u001b[0;32mif\u001b[0m \u001b[0;32mnot\u001b[0m \u001b[0mself\u001b[0m\u001b[0;34m.\u001b[0m\u001b[0min_values\u001b[0m\u001b[0;34m(\u001b[0m\u001b[0mv\u001b[0m\u001b[0;34m)\u001b[0m\u001b[0;34m:\u001b[0m\u001b[0;34m\u001b[0m\u001b[0;34m\u001b[0m\u001b[0m\n\u001b[0;32m--> 618\u001b[0;31m                 \u001b[0mself\u001b[0m\u001b[0;34m.\u001b[0m\u001b[0mraise_invalid_val\u001b[0m\u001b[0;34m(\u001b[0m\u001b[0mv\u001b[0m\u001b[0;34m)\u001b[0m\u001b[0;34m\u001b[0m\u001b[0;34m\u001b[0m\u001b[0m\n\u001b[0m\u001b[1;32m    619\u001b[0m         \u001b[0;32mreturn\u001b[0m \u001b[0mv\u001b[0m\u001b[0;34m\u001b[0m\u001b[0;34m\u001b[0m\u001b[0m\n\u001b[1;32m    620\u001b[0m \u001b[0;34m\u001b[0m\u001b[0m\n",
            "\u001b[0;32m/usr/local/lib/python3.8/dist-packages/_plotly_utils/basevalidators.py\u001b[0m in \u001b[0;36mraise_invalid_val\u001b[0;34m(self, v, inds)\u001b[0m\n\u001b[1;32m    287\u001b[0m                 \u001b[0mname\u001b[0m \u001b[0;34m+=\u001b[0m \u001b[0;34m\"[\"\u001b[0m \u001b[0;34m+\u001b[0m \u001b[0mstr\u001b[0m\u001b[0;34m(\u001b[0m\u001b[0mi\u001b[0m\u001b[0;34m)\u001b[0m \u001b[0;34m+\u001b[0m \u001b[0;34m\"]\"\u001b[0m\u001b[0;34m\u001b[0m\u001b[0;34m\u001b[0m\u001b[0m\n\u001b[1;32m    288\u001b[0m \u001b[0;34m\u001b[0m\u001b[0m\n\u001b[0;32m--> 289\u001b[0;31m         raise ValueError(\n\u001b[0m\u001b[1;32m    290\u001b[0m             \"\"\"\n\u001b[1;32m    291\u001b[0m     \u001b[0mInvalid\u001b[0m \u001b[0mvalue\u001b[0m \u001b[0mof\u001b[0m \u001b[0mtype\u001b[0m \u001b[0;34m{\u001b[0m\u001b[0mtyp\u001b[0m\u001b[0;34m}\u001b[0m \u001b[0mreceived\u001b[0m \u001b[0;32mfor\u001b[0m \u001b[0mthe\u001b[0m \u001b[0;34m'{name}'\u001b[0m \u001b[0mproperty\u001b[0m \u001b[0mof\u001b[0m \u001b[0;34m{\u001b[0m\u001b[0mpname\u001b[0m\u001b[0;34m}\u001b[0m\u001b[0;34m\u001b[0m\u001b[0;34m\u001b[0m\u001b[0m\n",
            "\u001b[0;31mValueError\u001b[0m: \n    Invalid value of type 'builtins.str' received for the 'type' property of layout.geo.projection\n        Received value: 'Paris'\n\n    The 'type' property is an enumeration that may be specified as:\n      - One of the following enumeration values:\n            ['airy', 'aitoff', 'albers', 'albers usa', 'august',\n            'azimuthal equal area', 'azimuthal equidistant', 'baker',\n            'bertin1953', 'boggs', 'bonne', 'bottomley', 'bromley',\n            'collignon', 'conic conformal', 'conic equal area', 'conic\n            equidistant', 'craig', 'craster', 'cylindrical equal\n            area', 'cylindrical stereographic', 'eckert1', 'eckert2',\n            'eckert3', 'eckert4', 'eckert5', 'eckert6', 'eisenlohr',\n            'equirectangular', 'fahey', 'foucaut', 'foucaut\n            sinusoidal', 'ginzburg4', 'ginzburg5', 'ginzburg6',\n            'ginzburg8', 'ginzburg9', 'gnomonic', 'gringorten',\n            'gringorten quincuncial', 'guyou', 'hammer', 'hill',\n            'homolosine', 'hufnagel', 'hyperelliptical',\n            'kavrayskiy7', 'lagrange', 'larrivee', 'laskowski',\n            'loximuthal', 'mercator', 'miller', 'mollweide', 'mt flat\n            polar parabolic', 'mt flat polar quartic', 'mt flat polar\n            sinusoidal', 'natural earth', 'natural earth1', 'natural\n            earth2', 'nell hammer', 'nicolosi', 'orthographic',\n            'patterson', 'peirce quincuncial', 'polyconic',\n            'rectangular polyconic', 'robinson', 'satellite', 'sinu\n            mollweide', 'sinusoidal', 'stereographic', 'times',\n            'transverse mercator', 'van der grinten', 'van der\n            grinten2', 'van der grinten3', 'van der grinten4',\n            'wagner4', 'wagner6', 'wiechel', 'winkel tripel',\n            'winkel3']"
          ]
        }
      ]
    },
    {
      "cell_type": "code",
      "source": [
        "import plotly.express as px\n",
        "import geopandas as gpd\n",
        "\n",
        "\n",
        "fig = px.scatter_geo(df_pop_dem,\n",
        "                    lat=geo_df.geometry.y,\n",
        "                    lon=geo_df.geometry.x,\n",
        "                    hover_name=\"Département\")\n",
        "fig.show()"
      ],
      "metadata": {
        "colab": {
          "base_uri": "https://localhost:8080/",
          "height": 373
        },
        "id": "7qFFFOedLLGu",
        "outputId": "51e2e880-b6cd-4299-c776-9fda075488d6"
      },
      "execution_count": 66,
      "outputs": [
        {
          "output_type": "error",
          "ename": "ModuleNotFoundError",
          "evalue": "ignored",
          "traceback": [
            "\u001b[0;31m---------------------------------------------------------------------------\u001b[0m",
            "\u001b[0;31mModuleNotFoundError\u001b[0m                       Traceback (most recent call last)",
            "\u001b[0;32m<ipython-input-66-60e8d3a7e921>\u001b[0m in \u001b[0;36m<module>\u001b[0;34m\u001b[0m\n\u001b[1;32m      1\u001b[0m \u001b[0;32mimport\u001b[0m \u001b[0mplotly\u001b[0m\u001b[0;34m.\u001b[0m\u001b[0mexpress\u001b[0m \u001b[0;32mas\u001b[0m \u001b[0mpx\u001b[0m\u001b[0;34m\u001b[0m\u001b[0;34m\u001b[0m\u001b[0m\n\u001b[0;32m----> 2\u001b[0;31m \u001b[0;32mimport\u001b[0m \u001b[0mgeopandas\u001b[0m \u001b[0;32mas\u001b[0m \u001b[0mgpd\u001b[0m\u001b[0;34m\u001b[0m\u001b[0;34m\u001b[0m\u001b[0m\n\u001b[0m\u001b[1;32m      3\u001b[0m \u001b[0;34m\u001b[0m\u001b[0m\n\u001b[1;32m      4\u001b[0m \u001b[0;34m\u001b[0m\u001b[0m\n\u001b[1;32m      5\u001b[0m fig = px.scatter_geo(df_pop_dem,\n",
            "\u001b[0;31mModuleNotFoundError\u001b[0m: No module named 'geopandas'",
            "",
            "\u001b[0;31m---------------------------------------------------------------------------\u001b[0;32m\nNOTE: If your import is failing due to a missing package, you can\nmanually install dependencies using either !pip or !apt.\n\nTo view examples of installing some common dependencies, click the\n\"Open Examples\" button below.\n\u001b[0;31m---------------------------------------------------------------------------\u001b[0m\n"
          ],
          "errorDetails": {
            "actions": [
              {
                "action": "open_url",
                "actionText": "Open Examples",
                "url": "/notebooks/snippets/importing_libraries.ipynb"
              }
            ]
          }
        }
      ]
    }
  ]
}