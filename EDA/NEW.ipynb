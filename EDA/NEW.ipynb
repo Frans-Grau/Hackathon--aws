{
  "nbformat": 4,
  "nbformat_minor": 0,
  "metadata": {
    "colab": {
      "provenance": [],
      "authorship_tag": "ABX9TyP6Tn0dZsWRwvzNAa/xooLU",
      "include_colab_link": true
    },
    "kernelspec": {
      "name": "python3",
      "display_name": "Python 3"
    },
    "language_info": {
      "name": "python"
    }
  },
  "cells": [
    {
      "cell_type": "markdown",
      "metadata": {
        "id": "view-in-github",
        "colab_type": "text"
      },
      "source": [
        "<a href=\"https://colab.research.google.com/github/Frans-Grau/Hackathon--aws/blob/main/EDA/NEW.ipynb\" target=\"_parent\"><img src=\"https://colab.research.google.com/assets/colab-badge.svg\" alt=\"Open In Colab\"/></a>"
      ]
    },
    {
      "cell_type": "code",
      "execution_count": null,
      "metadata": {
        "id": "NGnDL_6tUa8D"
      },
      "outputs": [],
      "source": [
        "GDHVHFBBH"
      ]
    },
    {
      "cell_type": "code",
      "source": [
        "### UPDATE"
      ],
      "metadata": {
        "id": "wPKj7W5lUnwx"
      },
      "execution_count": null,
      "outputs": []
    }
  ]
}